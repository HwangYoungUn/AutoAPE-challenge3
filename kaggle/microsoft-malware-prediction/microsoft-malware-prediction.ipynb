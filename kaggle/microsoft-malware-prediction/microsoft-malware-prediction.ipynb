{
 "cells": [
  {
   "cell_type": "code",
   "execution_count": 1,
   "id": "2c5272e3",
   "metadata": {},
   "outputs": [
    {
     "name": "stderr",
     "output_type": "stream",
     "text": [
      "Applying monkeypatch for pd.DataFrame.__del__\n"
     ]
    }
   ],
   "source": [
    "import pandas as pd, sys\n",
    "from ctypes import cdll, CDLL\n",
    "try:\n",
    "    cdll.LoadLibrary(\"libc.so.6\")\n",
    "    libc = CDLL(\"libc.so.6\")\n",
    "    libc.malloc_trim(0)\n",
    "except (OSError, AttributeError):\n",
    "    libc = None\n",
    "\n",
    "__old_del = getattr(pd.DataFrame, '__del__', None)\n",
    "\n",
    "def __new_del(self):\n",
    "    if __old_del:\n",
    "        __old_del(self)\n",
    "    libc.malloc_trim(0)\n",
    "\n",
    "if libc:\n",
    "    print('Applying monkeypatch for pd.DataFrame.__del__', file=sys.stderr)\n",
    "    pd.DataFrame.__del__ = __new_del\n",
    "else:\n",
    "    print('Skipping monkeypatch for pd.DataFrame.__del__: libc or malloc_trim() not found', file=sys.stderr)"
   ]
  },
  {
   "cell_type": "code",
   "execution_count": 2,
   "id": "9f37ff42",
   "metadata": {},
   "outputs": [
    {
     "name": "stderr",
     "output_type": "stream",
     "text": [
      "/home/centos/anaconda3/envs/test_env/lib/python3.7/site-packages/pandas/core/arrays/categorical.py:2631: FutureWarning: The `inplace` parameter in pandas.Categorical.remove_categories is deprecated and will be removed in a future version. Removing unused categories will always return a new Categorical object.\n",
      "  res = method(*args, **kwargs)\n"
     ]
    },
    {
     "name": "stdout",
     "output_type": "stream",
     "text": [
      "Loaded 8921483 rows of TRAIN and 7853253 rows of TEST\n"
     ]
    }
   ],
   "source": [
    "Debug = False\n",
    "\n",
    "import numpy as np, pandas as pd, gc, random\n",
    "import matplotlib.pyplot as plt\n",
    "\n",
    "def load(x):\n",
    "    ignore = ['MachineIdentifier']\n",
    "    if x in ignore: return False\n",
    "    else: return True\n",
    "\n",
    "if Debug:\n",
    "    df_train = pd.read_csv('/home/centos/moon/ktw/microsoft-malware-prediction/data/train.csv',dtype='category',usecols=load,nrows=10000)\n",
    "else:\n",
    "    df_train = pd.read_csv('/home/centos/moon/ktw/microsoft-malware-prediction/data/train.csv',dtype='category',usecols=load)\n",
    "df_train['HasDetections'] = df_train['HasDetections'].astype('int8')\n",
    "if 5244810 in df_train.index:\n",
    "    df_train.loc[5244810,'AvSigVersion'] = '1.273.1144.0'\n",
    "    df_train['AvSigVersion'].cat.remove_categories('1.2&#x17;3.1144.0',inplace=True)\n",
    "\n",
    "if Debug:\n",
    "    df_test = pd.read_csv('/home/centos/moon/ktw/microsoft-malware-prediction/data/test.csv',dtype='category',usecols=load,nrows=10000)\n",
    "else:\n",
    "    df_test = pd.read_csv('/home/centos/moon/ktw/microsoft-malware-prediction/data/test.csv',dtype='category',usecols=load)\n",
    "    \n",
    "print('Loaded',len(df_train),'rows of TRAIN and',len(df_test),'rows of TEST')"
   ]
  },
  {
   "cell_type": "code",
   "execution_count": 3,
   "id": "5018fd03",
   "metadata": {},
   "outputs": [],
   "source": [
    "def encode_FE(df,col):\n",
    "    vc = df[col].value_counts(dropna=False, normalize=True).to_dict()\n",
    "    nm = col+'_FE'\n",
    "    df[nm] = df[col].map(vc)\n",
    "    df[nm] = df[nm].astype('float32')\n",
    "    return [nm]\n",
    "\n",
    "def encode_FE2(df1, df2, col):\n",
    "    df = pd.concat([df1[col],df2[col]])\n",
    "    vc = df.value_counts(dropna=False, normalize=True).to_dict()\n",
    "    nm = col+'_FE2'\n",
    "    df1[nm] = df1[col].map(vc)\n",
    "    df1[nm] = df1[nm].astype('float32')\n",
    "    df2[nm] = df2[col].map(vc)\n",
    "    df2[nm] = df2[nm].astype('float32')\n",
    "    return [nm]\n",
    "\n",
    "def factor_data(df_train, df_test, col):\n",
    "    df_comb = pd.concat([df_train[col],df_test[col]],axis=0)\n",
    "    df_comb,_ = df_comb.factorize(sort=True)\n",
    "    # MAKE SMALLEST LABEL 1, RESERVE 0\n",
    "    df_comb += 1\n",
    "    # MAKE NAN LARGEST LABEL (need to remove attype('str') above)\n",
    "    df_comb = np.where(df_comb==0, df_comb.max()+1, df_comb)\n",
    "    df_train[col] = df_comb[:len(df_train)]\n",
    "    df_test[col] = df_comb[len(df_train):]\n",
    "    del df_comb\n",
    "    \n",
    "def reduce_memory(df,col):\n",
    "    mx = df[col].max()\n",
    "    if mx<256:\n",
    "            df[col] = df[col].astype('uint8')\n",
    "    elif mx<65536:\n",
    "        df[col] = df[col].astype('uint16')\n",
    "    else:\n",
    "        df[col] = df[col].astype('uint32')\n",
    "        \n",
    "def relax_data(df_train, df_test, col):\n",
    "    cv1 = pd.DataFrame(df_train[col].value_counts().reset_index().rename({col:'train'},axis=1))\n",
    "    cv2 = pd.DataFrame(df_test[col].value_counts().reset_index().rename({col:'test'},axis=1))\n",
    "    cv3 = pd.merge(cv1,cv2,on='index',how='outer')\n",
    "    factor = len(df_test)/len(df_train)\n",
    "    cv3['train'].fillna(0,inplace=True)\n",
    "    cv3['test'].fillna(0,inplace=True)\n",
    "    cv3['remove'] = False\n",
    "    cv3['remove'] = cv3['remove'] | (cv3['train'] < len(df_train)/10000)\n",
    "    cv3['remove'] = cv3['remove'] | (factor*cv3['train'] < cv3['test']/3)\n",
    "    cv3['remove'] = cv3['remove'] | (factor*cv3['train'] > 3*cv3['test'])\n",
    "    cv3['new'] = cv3.apply(lambda x: x['index'] if x['remove']==False else 0,axis=1)\n",
    "    cv3['new'],_ = cv3['new'].factorize(sort=True)\n",
    "    cv3.set_index('index',inplace=True)\n",
    "    cc = cv3['new'].to_dict()\n",
    "    df_train[col] = df_train[col].map(cc)\n",
    "    reduce_memory(df_train,col)\n",
    "    df_test[col] = df_test[col].map(cc)\n",
    "    reduce_memory(df_test,col)\n",
    "    \n",
    "def display_memory(df_train, df_test):\n",
    "    print(len(df_train),'rows of training data use',df_train.memory_usage(deep=True).sum()//1e6,'Mb memory!')\n",
    "    print(len(df_test),'rows of test data use',df_test.memory_usage(deep=True).sum()//1e6,'Mb memory!')\n",
    "\n",
    "def categorize(df_train, df_test, cols):\n",
    "    for col in cols:\n",
    "        df_train[col] = df_train[col].astype('category')\n",
    "        df_test[col] = df_test[col].astype('category')"
   ]
  },
  {
   "cell_type": "code",
   "execution_count": 4,
   "id": "df255f8f",
   "metadata": {},
   "outputs": [
    {
     "name": "stderr",
     "output_type": "stream",
     "text": [
      "/home/centos/anaconda3/envs/test_env/lib/python3.7/site-packages/ipykernel_launcher.py:14: DeprecationWarning: `np.int` is a deprecated alias for the builtin `int`. To silence this warning, use `int` by itself. Doing this will not modify any behavior and is safe. When replacing `np.int`, you may wish to use e.g. `np.int64` or `np.int32` to specify the precision. If you wish to review your current use, check the release note link for additional information.\n",
      "Deprecated in NumPy 1.20; for more details and guidance: https://numpy.org/devdocs/release/1.20.0-notes.html#deprecations\n",
      "  \n",
      "/home/centos/anaconda3/envs/test_env/lib/python3.7/site-packages/ipykernel_launcher.py:15: DeprecationWarning: `np.int` is a deprecated alias for the builtin `int`. To silence this warning, use `int` by itself. Doing this will not modify any behavior and is safe. When replacing `np.int`, you may wish to use e.g. `np.int64` or `np.int32` to specify the precision. If you wish to review your current use, check the release note link for additional information.\n",
      "Deprecated in NumPy 1.20; for more details and guidance: https://numpy.org/devdocs/release/1.20.0-notes.html#deprecations\n",
      "  from ipykernel import kernelapp as app\n"
     ]
    }
   ],
   "source": [
    "from datetime import datetime, date, timedelta\n",
    "\n",
    "datedictAS = np.load('/home/centos/moon/ktw/microsoft-malware-prediction/data/AvSigVersionTimestamps.npy', allow_pickle=True)[()]\n",
    "df_train['DateAS'] = df_train['AvSigVersion'].map(datedictAS)\n",
    "df_test['DateAS'] = df_test['AvSigVersion'].map(datedictAS)\n",
    "\n",
    "datedictOS = np.load('/home/centos/moon/ktw/microsoft-malware-prediction/data/OSVersionTimestamps.npy', allow_pickle=True)[()]\n",
    "df_train['DateOS'] = df_train['Census_OSVersion'].map(datedictOS)\n",
    "df_test['DateOS'] = df_test['Census_OSVersion'].map(datedictOS)\n",
    "\n",
    "df_train['AppVersion2'] = df_train['AppVersion'].map(lambda x: np.int(x.split('.')[1]))\n",
    "df_test['AppVersion2'] = df_test['AppVersion'].map(lambda x: np.int(x.split('.')[1]))\n",
    "\n",
    "df_train['Lag1'] = df_train['DateAS'] - df_train['DateOS']\n",
    "df_train['Lag1'] = df_train['Lag1'].map(lambda x: x.days//7)\n",
    "df_test['Lag1'] = df_test['DateAS'] - df_test['DateOS']\n",
    "df_test['Lag1'] = df_test['Lag1'].map(lambda x: x.days//7)\n",
    "\n",
    "df_train['Lag5'] = datetime(2018,7,26) - df_train['DateAS']\n",
    "df_train['Lag5'] = df_train['Lag5'].map(lambda x: x.days//1)\n",
    "df_train.loc[ df_train['Lag5']<0, 'Lag5' ] = 0\n",
    "df_test['Lag5'] = datetime(2018,9,27) - df_test['DateAS'] #PUBLIC TEST\n",
    "df_test['Lag5'] = df_test['Lag5'].map(lambda x: x.days//1)\n",
    "df_test.loc[ df_test['Lag5']<0, 'Lag5' ] = 0\n",
    "df_train['Lag5'] = df_train['Lag5'].astype('float32') # allow for NAN\n",
    "df_test['Lag5'] = df_test['Lag5'].astype('float32') # allow for NAN\n",
    "\n",
    "df_train['driveA'] = df_train['Census_SystemVolumeTotalCapacity'].astype('float')/df_train['Census_PrimaryDiskTotalCapacity'].astype('float')\n",
    "df_test['driveA'] = df_test['Census_SystemVolumeTotalCapacity'].astype('float')/df_test['Census_PrimaryDiskTotalCapacity'].astype('float')\n",
    "df_train['driveA'] = df_train['driveA'].astype('float32') \n",
    "df_test['driveA'] = df_test['driveA'].astype('float32') \n",
    "\n",
    "df_train['driveB'] = df_train['Census_PrimaryDiskTotalCapacity'].astype('float') - df_train['Census_SystemVolumeTotalCapacity'].astype('float')\n",
    "df_test['driveB'] = df_test['Census_PrimaryDiskTotalCapacity'].astype('float') - df_test['Census_SystemVolumeTotalCapacity'].astype('float')\n",
    "df_train['driveB'] = df_train['driveB'].astype('float32') \n",
    "df_test['driveB'] = df_test['driveB'].astype('float32') \n",
    "\n",
    "cols6=['Lag1']\n",
    "cols8=['Lag5','driveB','driveA']\n",
    "\n",
    "del df_train['DateAS'], df_train['DateOS'] #, df_train['DateBL']\n",
    "del df_test['DateAS'], df_test['DateOS'] #, df_test['DateBL']\n",
    "del datedictAS, datedictOS\n",
    "x=gc.collect()"
   ]
  },
  {
   "cell_type": "code",
   "execution_count": 5,
   "id": "88248465",
   "metadata": {},
   "outputs": [],
   "source": [
    "cols3 = []\n",
    "FE = ['Census_OSVersion', 'Census_OSBuildRevision', 'Census_InternalBatteryNumberOfCharges', 'AvSigVersion', 'Lag1']\n",
    "for col in FE:\n",
    "    cols3 += encode_FE(df_train, col)\n",
    "    encode_FE(df_test, col)\n",
    "    \n",
    "FE2 = ['CountryIdentifier', 'Census_InternalBatteryNumberOfCharges']\n",
    "for col in FE2:\n",
    "    cols3 += encode_FE2(df_train, df_test, col)"
   ]
  },
  {
   "cell_type": "code",
   "execution_count": 6,
   "id": "74bf9456",
   "metadata": {},
   "outputs": [],
   "source": [
    "CE = ['CountryIdentifier', 'SkuEdition', 'Firewall', 'Census_ProcessorCoreCount', 'Census_OSUILocaleIdentifier', 'Census_FlightRing']"
   ]
  },
  {
   "cell_type": "code",
   "execution_count": 7,
   "id": "fb313db9",
   "metadata": {},
   "outputs": [
    {
     "name": "stdout",
     "output_type": "stream",
     "text": [
      "Removed 18 variables\n"
     ]
    }
   ],
   "source": [
    "cols = [x for x in df_train.columns if x not in ['HasDetections']+CE+cols3+cols6+cols8]\n",
    "cols2 = CE; ct = 1\n",
    "    \n",
    "for col in cols.copy():\n",
    "    rate = df_train[col].value_counts(normalize=True, dropna=False).values[0]\n",
    "    if rate > 0.98:\n",
    "        del df_train[col]\n",
    "        del df_test[col]\n",
    "        cols.remove(col)\n",
    "        ct += 1\n",
    "\n",
    "rmv3=['Census_OSSkuName', 'OsVer', 'Census_OSArchitecture', 'Census_OSInstallLanguageIdentifier']\n",
    "rmv4=['SMode']\n",
    "for col in rmv3+rmv4:\n",
    "    del df_train[col]\n",
    "    del df_test[col]\n",
    "    cols.remove(col)\n",
    "    ct +=1\n",
    "    \n",
    "print('Removed',ct,'variables')\n",
    "x=gc.collect()"
   ]
  },
  {
   "cell_type": "code",
   "execution_count": 8,
   "id": "a5d03bb1",
   "metadata": {},
   "outputs": [
    {
     "name": "stdout",
     "output_type": "stream",
     "text": [
      "Factorizing...\n",
      "Relaxing data...\n",
      "Optimizing memory...\n",
      "Number of variables is 76\n",
      "8921483 rows of training data use 1025.0 Mb memory!\n",
      "7853253 rows of test data use 895.0 Mb memory!\n"
     ]
    }
   ],
   "source": [
    "print('Factorizing...')\n",
    "for col in cols+cols2+cols6:\n",
    "    factor_data(df_train, df_test, col)\n",
    "print('Relaxing data...')\n",
    "for col in cols+cols2: relax_data(df_train, df_test, col)\n",
    "print('Optimizing memory...')\n",
    "for col in cols+cols2+cols6:\n",
    "    reduce_memory(df_train, col)\n",
    "    reduce_memory(df_test, col)\n",
    "\n",
    "categorize(df_train, df_test, cols2)\n",
    "    \n",
    "print('Number of variables is',len(cols+cols2+cols3+cols6+cols8))\n",
    "display_memory(df_train, df_test)"
   ]
  },
  {
   "cell_type": "code",
   "execution_count": 9,
   "id": "be72c411",
   "metadata": {
    "scrolled": false
   },
   "outputs": [
    {
     "name": "stdout",
     "output_type": "stream",
     "text": [
      "####### FOLD  1 #########\n"
     ]
    },
    {
     "name": "stderr",
     "output_type": "stream",
     "text": [
      "/home/centos/anaconda3/envs/test_env/lib/python3.7/site-packages/lightgbm/sklearn.py:726: UserWarning: 'early_stopping_rounds' argument is deprecated and will be removed in a future release of LightGBM. Pass 'early_stopping()' callback via 'callbacks' argument instead.\n",
      "  _log_warning(\"'early_stopping_rounds' argument is deprecated and will be removed in a future release of LightGBM. \"\n",
      "/home/centos/anaconda3/envs/test_env/lib/python3.7/site-packages/lightgbm/sklearn.py:736: UserWarning: 'verbose' argument is deprecated and will be removed in a future release of LightGBM. Pass 'log_evaluation()' callback via 'callbacks' argument instead.\n",
      "  _log_warning(\"'verbose' argument is deprecated and will be removed in a future release of LightGBM. \"\n",
      "/home/centos/anaconda3/envs/test_env/lib/python3.7/site-packages/lightgbm/basic.py:1780: UserWarning: Overriding the parameters from Reference Dataset.\n",
      "  _log_warning('Overriding the parameters from Reference Dataset.')\n",
      "/home/centos/anaconda3/envs/test_env/lib/python3.7/site-packages/lightgbm/basic.py:1513: UserWarning: categorical_column in param dict is overridden.\n",
      "  _log_warning(f'{cat_alias} in param dict is overridden.')\n"
     ]
    },
    {
     "name": "stdout",
     "output_type": "stream",
     "text": [
      "[200]\tvalid_0's auc: 0.74054\tvalid_0's binary_logloss: 0.595471\n",
      "[400]\tvalid_0's auc: 0.743858\tvalid_0's binary_logloss: 0.592108\n",
      "[600]\tvalid_0's auc: 0.744298\tvalid_0's binary_logloss: 0.59161\n",
      "[800]\tvalid_0's auc: 0.744347\tvalid_0's binary_logloss: 0.591506\n",
      "Predicting test...\n",
      "####### FOLD  2 #########\n"
     ]
    },
    {
     "name": "stderr",
     "output_type": "stream",
     "text": [
      "/home/centos/anaconda3/envs/test_env/lib/python3.7/site-packages/lightgbm/sklearn.py:726: UserWarning: 'early_stopping_rounds' argument is deprecated and will be removed in a future release of LightGBM. Pass 'early_stopping()' callback via 'callbacks' argument instead.\n",
      "  _log_warning(\"'early_stopping_rounds' argument is deprecated and will be removed in a future release of LightGBM. \"\n",
      "/home/centos/anaconda3/envs/test_env/lib/python3.7/site-packages/lightgbm/sklearn.py:736: UserWarning: 'verbose' argument is deprecated and will be removed in a future release of LightGBM. Pass 'log_evaluation()' callback via 'callbacks' argument instead.\n",
      "  _log_warning(\"'verbose' argument is deprecated and will be removed in a future release of LightGBM. \"\n",
      "/home/centos/anaconda3/envs/test_env/lib/python3.7/site-packages/lightgbm/basic.py:1780: UserWarning: Overriding the parameters from Reference Dataset.\n",
      "  _log_warning('Overriding the parameters from Reference Dataset.')\n",
      "/home/centos/anaconda3/envs/test_env/lib/python3.7/site-packages/lightgbm/basic.py:1513: UserWarning: categorical_column in param dict is overridden.\n",
      "  _log_warning(f'{cat_alias} in param dict is overridden.')\n"
     ]
    },
    {
     "name": "stdout",
     "output_type": "stream",
     "text": [
      "[200]\tvalid_0's auc: 0.740718\tvalid_0's binary_logloss: 0.595204\n",
      "[400]\tvalid_0's auc: 0.744029\tvalid_0's binary_logloss: 0.59182\n",
      "[600]\tvalid_0's auc: 0.744474\tvalid_0's binary_logloss: 0.591322\n",
      "[800]\tvalid_0's auc: 0.744575\tvalid_0's binary_logloss: 0.591152\n",
      "Predicting test...\n",
      "####### FOLD  3 #########\n"
     ]
    },
    {
     "name": "stderr",
     "output_type": "stream",
     "text": [
      "/home/centos/anaconda3/envs/test_env/lib/python3.7/site-packages/lightgbm/sklearn.py:726: UserWarning: 'early_stopping_rounds' argument is deprecated and will be removed in a future release of LightGBM. Pass 'early_stopping()' callback via 'callbacks' argument instead.\n",
      "  _log_warning(\"'early_stopping_rounds' argument is deprecated and will be removed in a future release of LightGBM. \"\n",
      "/home/centos/anaconda3/envs/test_env/lib/python3.7/site-packages/lightgbm/sklearn.py:736: UserWarning: 'verbose' argument is deprecated and will be removed in a future release of LightGBM. Pass 'log_evaluation()' callback via 'callbacks' argument instead.\n",
      "  _log_warning(\"'verbose' argument is deprecated and will be removed in a future release of LightGBM. \"\n",
      "/home/centos/anaconda3/envs/test_env/lib/python3.7/site-packages/lightgbm/basic.py:1780: UserWarning: Overriding the parameters from Reference Dataset.\n",
      "  _log_warning('Overriding the parameters from Reference Dataset.')\n",
      "/home/centos/anaconda3/envs/test_env/lib/python3.7/site-packages/lightgbm/basic.py:1513: UserWarning: categorical_column in param dict is overridden.\n",
      "  _log_warning(f'{cat_alias} in param dict is overridden.')\n"
     ]
    },
    {
     "name": "stdout",
     "output_type": "stream",
     "text": [
      "[200]\tvalid_0's auc: 0.73987\tvalid_0's binary_logloss: 0.595791\n",
      "[400]\tvalid_0's auc: 0.743192\tvalid_0's binary_logloss: 0.592453\n",
      "[600]\tvalid_0's auc: 0.743564\tvalid_0's binary_logloss: 0.592043\n",
      "[800]\tvalid_0's auc: 0.743703\tvalid_0's binary_logloss: 0.591869\n",
      "Predicting test...\n",
      "####### FOLD  4 #########\n"
     ]
    },
    {
     "name": "stderr",
     "output_type": "stream",
     "text": [
      "/home/centos/anaconda3/envs/test_env/lib/python3.7/site-packages/lightgbm/sklearn.py:726: UserWarning: 'early_stopping_rounds' argument is deprecated and will be removed in a future release of LightGBM. Pass 'early_stopping()' callback via 'callbacks' argument instead.\n",
      "  _log_warning(\"'early_stopping_rounds' argument is deprecated and will be removed in a future release of LightGBM. \"\n",
      "/home/centos/anaconda3/envs/test_env/lib/python3.7/site-packages/lightgbm/sklearn.py:736: UserWarning: 'verbose' argument is deprecated and will be removed in a future release of LightGBM. Pass 'log_evaluation()' callback via 'callbacks' argument instead.\n",
      "  _log_warning(\"'verbose' argument is deprecated and will be removed in a future release of LightGBM. \"\n",
      "/home/centos/anaconda3/envs/test_env/lib/python3.7/site-packages/lightgbm/basic.py:1780: UserWarning: Overriding the parameters from Reference Dataset.\n",
      "  _log_warning('Overriding the parameters from Reference Dataset.')\n",
      "/home/centos/anaconda3/envs/test_env/lib/python3.7/site-packages/lightgbm/basic.py:1513: UserWarning: categorical_column in param dict is overridden.\n",
      "  _log_warning(f'{cat_alias} in param dict is overridden.')\n"
     ]
    },
    {
     "name": "stdout",
     "output_type": "stream",
     "text": [
      "[200]\tvalid_0's auc: 0.740546\tvalid_0's binary_logloss: 0.595354\n",
      "[400]\tvalid_0's auc: 0.743828\tvalid_0's binary_logloss: 0.592012\n",
      "[600]\tvalid_0's auc: 0.744291\tvalid_0's binary_logloss: 0.591509\n",
      "[800]\tvalid_0's auc: 0.744425\tvalid_0's binary_logloss: 0.591325\n",
      "Predicting test...\n",
      "####### FOLD  5 #########\n"
     ]
    },
    {
     "name": "stderr",
     "output_type": "stream",
     "text": [
      "/home/centos/anaconda3/envs/test_env/lib/python3.7/site-packages/lightgbm/sklearn.py:726: UserWarning: 'early_stopping_rounds' argument is deprecated and will be removed in a future release of LightGBM. Pass 'early_stopping()' callback via 'callbacks' argument instead.\n",
      "  _log_warning(\"'early_stopping_rounds' argument is deprecated and will be removed in a future release of LightGBM. \"\n",
      "/home/centos/anaconda3/envs/test_env/lib/python3.7/site-packages/lightgbm/sklearn.py:736: UserWarning: 'verbose' argument is deprecated and will be removed in a future release of LightGBM. Pass 'log_evaluation()' callback via 'callbacks' argument instead.\n",
      "  _log_warning(\"'verbose' argument is deprecated and will be removed in a future release of LightGBM. \"\n",
      "/home/centos/anaconda3/envs/test_env/lib/python3.7/site-packages/lightgbm/basic.py:1780: UserWarning: Overriding the parameters from Reference Dataset.\n",
      "  _log_warning('Overriding the parameters from Reference Dataset.')\n",
      "/home/centos/anaconda3/envs/test_env/lib/python3.7/site-packages/lightgbm/basic.py:1513: UserWarning: categorical_column in param dict is overridden.\n",
      "  _log_warning(f'{cat_alias} in param dict is overridden.')\n"
     ]
    },
    {
     "name": "stdout",
     "output_type": "stream",
     "text": [
      "[200]\tvalid_0's auc: 0.740478\tvalid_0's binary_logloss: 0.59534\n",
      "[400]\tvalid_0's auc: 0.743681\tvalid_0's binary_logloss: 0.592099\n",
      "[600]\tvalid_0's auc: 0.744219\tvalid_0's binary_logloss: 0.59152\n",
      "[800]\tvalid_0's auc: 0.74429\tvalid_0's binary_logloss: 0.591394\n",
      "[1000]\tvalid_0's auc: 0.744343\tvalid_0's binary_logloss: 0.591307\n",
      "Predicting test...\n"
     ]
    }
   ],
   "source": [
    "import lightgbm as lgb\n",
    "from sklearn.model_selection import StratifiedKFold\n",
    "\n",
    "pred_val = np.zeros(len(df_test))\n",
    "folds = StratifiedKFold(n_splits=5, shuffle=True)\n",
    "\n",
    "ct = 0\n",
    "for idxT, idxV in folds.split(df_train[cols+cols2+cols3+cols6], df_train['HasDetections']):\n",
    "    # TRAIN LGBM\n",
    "    ct += 1; print('####### FOLD ',ct,'#########')\n",
    "    df_trainA = df_train.loc[idxT]\n",
    "    df_trainB = df_train.loc[idxV]\n",
    "    model = lgb.LGBMClassifier(n_estimators=10000, colsample_bytree=0.5, objective='binary', num_leaves=2048,\n",
    "            max_depth=-1, learning_rate=0.04)\n",
    "    h=model.fit(df_trainA[cols+cols2+cols3+cols6+cols8], df_trainA['HasDetections'], eval_metric='auc',\n",
    "            eval_set=[(df_trainB[cols+cols2+cols3+cols6+cols8], df_trainB['HasDetections'])], verbose=200,\n",
    "            early_stopping_rounds=100)\n",
    "    \n",
    "    # PREDICT TEST\n",
    "    del df_trainA, df_trainB; x=gc.collect()\n",
    "    idx = 0; ct2 = 1; chunk = 1000000\n",
    "    print('Predicting test...')\n",
    "    while idx < len(df_test):\n",
    "        idx2 = min(idx + chunk, len(df_test) )\n",
    "        idx = range(idx, idx2)\n",
    "        pred_val[idx] += model.predict_proba(df_test.iloc[idx][cols+cols2+cols3+cols6+cols8])[:,1]\n",
    "        #print('Finished predicting part',ct2)\n",
    "        ct2 += 1; idx = idx2"
   ]
  },
  {
   "cell_type": "code",
   "execution_count": 10,
   "id": "f55a4dcd",
   "metadata": {},
   "outputs": [],
   "source": [
    "del df_train; x=gc.collect()\n",
    "df_test = pd.read_csv('/home/centos/moon/ktw/microsoft-malware-prediction/data/test.csv',\n",
    "            usecols=['MachineIdentifier','AvSigVersion'], nrows=len(pred_val))\n",
    "\n",
    "from datetime import datetime\n",
    "datedictAS = np.load('/home/centos/moon/ktw/microsoft-malware-prediction/data/AvSigVersionTimestamps.npy', allow_pickle=True)[()]\n",
    "df_test['Date'] = df_test['AvSigVersion'].map(datedictAS)\n",
    "df_test['HasDetections'] = pred_val / 5.0\n",
    "df_test['X'] = df_test['Date'] - datetime(2018,11,20,4,0) \n",
    "df_test['X'] = df_test['X'].map(lambda x: x.total_seconds()/86400)\n",
    "df_test['X'].fillna(0,inplace=True)\n",
    "s = 5.813888\n",
    "df_test['F'] = 1.0\n",
    "df_test['F'] = 1 - df_test['X']/s\n",
    "df_test.loc[df_test['X']<=0,'F'] = 1.0\n",
    "df_test.loc[df_test['X']>s,'F'] = 0\n",
    "df_test['HasDetections'] *= df_test['F']"
   ]
  },
  {
   "cell_type": "code",
   "execution_count": 11,
   "id": "39f6bed1",
   "metadata": {},
   "outputs": [],
   "source": [
    "df_test[['MachineIdentifier','HasDetections']].to_csv('/home/centos/moon/ktw/microsoft-malware-prediction/data/submission11.csv', index=False)"
   ]
  },
  {
   "cell_type": "code",
   "execution_count": null,
   "id": "8159a60a",
   "metadata": {},
   "outputs": [],
   "source": []
  }
 ],
 "metadata": {
  "kernelspec": {
   "display_name": "test_env",
   "language": "python",
   "name": "test_env"
  },
  "language_info": {
   "codemirror_mode": {
    "name": "ipython",
    "version": 3
   },
   "file_extension": ".py",
   "mimetype": "text/x-python",
   "name": "python",
   "nbconvert_exporter": "python",
   "pygments_lexer": "ipython3",
   "version": "3.7.13"
  }
 },
 "nbformat": 4,
 "nbformat_minor": 5
}
