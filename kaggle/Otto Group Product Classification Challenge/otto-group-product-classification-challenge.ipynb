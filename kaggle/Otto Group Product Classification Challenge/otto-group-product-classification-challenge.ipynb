{
 "cells": [
  {
   "cell_type": "code",
   "execution_count": 2,
   "id": "4a4cec32",
   "metadata": {},
   "outputs": [],
   "source": [
    "import numpy as np\n",
    "import pandas as pd\n",
    "\n",
    "from xgboost import XGBClassifier\n",
    "from sklearn.model_selection import StratifiedShuffleSplit\n",
    "from sklearn.metrics import log_loss, accuracy_score\n",
    "from sklearn.preprocessing import LabelEncoder, StandardScaler\n",
    "from sklearn.feature_selection import SelectFromModel\n",
    "from sklearn.calibration import CalibratedClassifierCV\n",
    "#from imblearn.over_sampling import RandomOverSampler\n",
    "from matplotlib import pyplot as plt"
   ]
  },
  {
   "cell_type": "code",
   "execution_count": 3,
   "id": "e0ef3f65",
   "metadata": {},
   "outputs": [
    {
     "data": {
      "text/plain": [
       "array([[1, 1, 0, ..., 0, 0, 'Class_1'],\n",
       "       [2, 0, 0, ..., 0, 0, 'Class_1'],\n",
       "       [3, 0, 0, ..., 0, 0, 'Class_1'],\n",
       "       ...,\n",
       "       [61876, 0, 0, ..., 0, 0, 'Class_9'],\n",
       "       [61877, 1, 0, ..., 10, 0, 'Class_9'],\n",
       "       [61878, 0, 0, ..., 2, 0, 'Class_9']], dtype=object)"
      ]
     },
     "execution_count": 3,
     "metadata": {},
     "output_type": "execute_result"
    }
   ],
   "source": [
    "data = pd.read_csv(\"/home/centos/moon/ktw/Otto Group Product Classification Challenge/data/train.csv\", decimal=\",\")\n",
    "ds = data.values\n",
    "ds"
   ]
  },
  {
   "cell_type": "code",
   "execution_count": 4,
   "id": "79a5547f",
   "metadata": {},
   "outputs": [],
   "source": [
    "x_trdata = ds[:, 1:94]\n",
    "y_trdata = ds[:, 94]"
   ]
  },
  {
   "cell_type": "code",
   "execution_count": 5,
   "id": "6a6c6904",
   "metadata": {},
   "outputs": [
    {
     "data": {
      "text/plain": [
       "array([0, 0, 0, ..., 8, 8, 8])"
      ]
     },
     "execution_count": 5,
     "metadata": {},
     "output_type": "execute_result"
    }
   ],
   "source": [
    "le = LabelEncoder()\n",
    "y_trdata = le.fit_transform(y_trdata).astype(int)\n",
    "y_trdata"
   ]
  },
  {
   "cell_type": "code",
   "execution_count": 6,
   "id": "3e33b7e3",
   "metadata": {},
   "outputs": [],
   "source": [
    "seed = 326\n",
    "ts = 0.20\n",
    "\n",
    "sss = StratifiedShuffleSplit(n_splits=1, test_size=ts, random_state=seed)\n",
    "for train_idx, test_idx in sss.split(x_trdata, y_trdata):\n",
    "    x_train = x_trdata[train_idx]\n",
    "    y_train = y_trdata[train_idx]\n",
    "    x_val = x_trdata[test_idx]\n",
    "    y_val = y_trdata[test_idx]  "
   ]
  },
  {
   "cell_type": "code",
   "execution_count": 7,
   "id": "3a2e0ead",
   "metadata": {},
   "outputs": [
    {
     "data": {
      "text/plain": [
       "0"
      ]
     },
     "execution_count": 7,
     "metadata": {},
     "output_type": "execute_result"
    }
   ],
   "source": [
    "data.isnull().sum().sum()"
   ]
  },
  {
   "cell_type": "code",
   "execution_count": 8,
   "id": "cd3d0786",
   "metadata": {},
   "outputs": [
    {
     "data": {
      "text/plain": [
       "<AxesSubplot:>"
      ]
     },
     "execution_count": 8,
     "metadata": {},
     "output_type": "execute_result"
    },
    {
     "data": {
      "image/png": "[encoded data removed]",
      "text/plain": [
       "<Figure size 432x288 with 1 Axes>"
      ]
     },
     "metadata": {
      "needs_background": "light"
     },
     "output_type": "display_data"
    }
   ],
   "source": [
    "data[\"target\"].value_counts().plot.bar()"
   ]
  },
  {
   "cell_type": "code",
   "execution_count": null,
   "id": "13eb14bb",
   "metadata": {},
   "outputs": [],
   "source": [
    "xgb = XGBClassifier(use_label_encoder=False)\n",
    "xgb.fit(x_train, y_train)"
   ]
  },
  {
   "cell_type": "code",
   "execution_count": null,
   "id": "a1f413ab",
   "metadata": {},
   "outputs": [],
   "source": [
    "pred = xgb.predict_proba(x_val)\n",
    "print(\"Validation data logloss: {}\".format(log_loss(y_val, pred)))"
   ]
  },
  {
   "cell_type": "code",
   "execution_count": null,
   "id": "21539016",
   "metadata": {},
   "outputs": [],
   "source": [
    "pred = xgb.predict(x_val)\n",
    "accu = accuracy_score(y_val, pred)\n",
    "print(\"Accuracy: %.2f%%\" % (accu * 100.0))"
   ]
  },
  {
   "cell_type": "code",
   "execution_count": null,
   "id": "8a8e432a",
   "metadata": {},
   "outputs": [],
   "source": [
    "lr_scores = []\n",
    "learning_rates = [0.345, 0.350, 0.355]\n",
    "\n",
    "for l in learning_rates:\n",
    "    tune_xgb = XGBClassifier(use_label_encoder=False, learning_rate=l)\n",
    "    tune_xgb.fit(x_train, y_train)\n",
    "    pred = tune_xgb.predict_proba(x_val)\n",
    "    lr_scores.append(log_loss(y_val, pred))\n",
    "    print(\"learning_rate=%.3f, logloss: %.5f\" % (l, log_loss(y_val, pred)))"
   ]
  },
  {
   "cell_type": "code",
   "execution_count": 11,
   "id": "820933eb",
   "metadata": {},
   "outputs": [],
   "source": [
    "pa = {'objective':'multi:sofprob',\n",
    "      'learning_rate': 0.35,\n",
    "     }"
   ]
  },
  {
   "cell_type": "code",
   "execution_count": 12,
   "id": "db90ca84",
   "metadata": {},
   "outputs": [
    {
     "name": "stdout",
     "output_type": "stream",
     "text": [
      "[09:49:22] WARNING: ../src/learner.cc:1115: Starting in XGBoost 1.3.0, the default evaluation metric used with the objective 'multi:softprob' was changed from 'merror' to 'mlogloss'. Explicitly set eval_metric if you'd like to restore the old behavior.\n",
      "[09:49:49] WARNING: ../src/learner.cc:1115: Starting in XGBoost 1.3.0, the default evaluation metric used with the objective 'multi:softprob' was changed from 'merror' to 'mlogloss'. Explicitly set eval_metric if you'd like to restore the old behavior.\n",
      "[09:50:10] WARNING: ../src/learner.cc:1115: Starting in XGBoost 1.3.0, the default evaluation metric used with the objective 'multi:softprob' was changed from 'merror' to 'mlogloss'. Explicitly set eval_metric if you'd like to restore the old behavior.\n",
      "[09:50:33] WARNING: ../src/learner.cc:1115: Starting in XGBoost 1.3.0, the default evaluation metric used with the objective 'multi:softprob' was changed from 'merror' to 'mlogloss'. Explicitly set eval_metric if you'd like to restore the old behavior.\n",
      "[09:50:53] WARNING: ../src/learner.cc:1115: Starting in XGBoost 1.3.0, the default evaluation metric used with the objective 'multi:softprob' was changed from 'merror' to 'mlogloss'. Explicitly set eval_metric if you'd like to restore the old behavior.\n"
     ]
    },
    {
     "data": {
      "text/plain": [
       "CalibratedClassifierCV(base_estimator=XGBClassifier(base_score=None,\n",
       "                                                    booster=None,\n",
       "                                                    colsample_bylevel=None,\n",
       "                                                    colsample_bynode=None,\n",
       "                                                    colsample_bytree=None,\n",
       "                                                    enable_categorical=False,\n",
       "                                                    gamma=None, gpu_id=None,\n",
       "                                                    importance_type=None,\n",
       "                                                    interaction_constraints=None,\n",
       "                                                    learning_rate=0.35,\n",
       "                                                    max_delta_step=None,\n",
       "                                                    max_depth=None,\n",
       "                                                    min_child_weight=None,\n",
       "                                                    missing=nan,\n",
       "                                                    monotone_constraints=None,\n",
       "                                                    n_estimators=100,\n",
       "                                                    n_jobs=None,\n",
       "                                                    num_parallel_tree=None,\n",
       "                                                    objective='multi:sofprob',\n",
       "                                                    predictor=None,\n",
       "                                                    random_state=None,\n",
       "                                                    reg_alpha=None,\n",
       "                                                    reg_lambda=None,\n",
       "                                                    scale_pos_weight=None,\n",
       "                                                    subsample=None,\n",
       "                                                    tree_method=None,\n",
       "                                                    use_label_encoder=False,\n",
       "                                                    validate_parameters=None,\n",
       "                                                    verbosity=None),\n",
       "                       cv=5, method='isotonic')"
      ]
     },
     "execution_count": 12,
     "metadata": {},
     "output_type": "execute_result"
    }
   ],
   "source": [
    "xgb = XGBClassifier(**pa, use_label_encoder=False)\n",
    "model = CalibratedClassifierCV(xgb, cv=5, method=\"isotonic\")\n",
    "model.fit(x_train, y_train)"
   ]
  },
  {
   "cell_type": "code",
   "execution_count": 13,
   "id": "6a92a1b5",
   "metadata": {},
   "outputs": [
    {
     "name": "stdout",
     "output_type": "stream",
     "text": [
      "Validation data logloss: 0.4628408686464133\n"
     ]
    }
   ],
   "source": [
    "pred = model.predict_proba(x_val)\n",
    "print(\"Validation data logloss: {}\".format(log_loss(y_val, pred)))"
   ]
  },
  {
   "cell_type": "code",
   "execution_count": 14,
   "id": "67923741",
   "metadata": {},
   "outputs": [
    {
     "data": {
      "text/plain": [
       "array([[     1,      0,      0, ...,      0,      0,      0],\n",
       "       [     2,      2,      2, ...,      0,      2,      0],\n",
       "       [     3,      0,      1, ...,      0,      0,      1],\n",
       "       ...,\n",
       "       [144366,      0,      1, ...,      1,      0,      0],\n",
       "       [144367,      0,      0, ...,      0,      1,      0],\n",
       "       [144368,      0,      0, ...,      0,      0,      0]])"
      ]
     },
     "execution_count": 14,
     "metadata": {},
     "output_type": "execute_result"
    }
   ],
   "source": [
    "test = pd.read_csv(\"/home/centos/moon/ktw/Otto Group Product Classification Challenge/data/test.csv\", decimal=\",\")\n",
    "ds = test.values\n",
    "ds"
   ]
  },
  {
   "cell_type": "code",
   "execution_count": 15,
   "id": "390a35b8",
   "metadata": {},
   "outputs": [
    {
     "data": {
      "text/plain": [
       "(144368, 94)"
      ]
     },
     "execution_count": 15,
     "metadata": {},
     "output_type": "execute_result"
    }
   ],
   "source": [
    "test.shape"
   ]
  },
  {
   "cell_type": "code",
   "execution_count": 16,
   "id": "9a22f6a2",
   "metadata": {},
   "outputs": [
    {
     "data": {
      "text/plain": [
       "array([[ 0,  0,  0, ...,  0,  0,  0],\n",
       "       [ 2,  2, 14, ...,  0,  2,  0],\n",
       "       [ 0,  1, 12, ...,  0,  0,  1],\n",
       "       ...,\n",
       "       [ 0,  1,  0, ...,  1,  0,  0],\n",
       "       [ 0,  0,  0, ...,  0,  1,  0],\n",
       "       [ 0,  0,  0, ...,  0,  0,  0]])"
      ]
     },
     "execution_count": 16,
     "metadata": {},
     "output_type": "execute_result"
    }
   ],
   "source": [
    "x_test = ds[:, 1:94]\n",
    "x_test"
   ]
  },
  {
   "cell_type": "code",
   "execution_count": 17,
   "id": "443bfcc1",
   "metadata": {},
   "outputs": [
    {
     "data": {
      "text/plain": [
       "array([[0.00000000e+00, 1.88199355e-01, 1.06343002e-01, ...,\n",
       "        6.91058381e-03, 1.08569352e-04, 0.00000000e+00],\n",
       "       [3.16431650e-03, 8.38208680e-03, 5.35171004e-04, ...,\n",
       "        3.92670367e-03, 5.24648612e-01, 8.28392614e-04],\n",
       "       [0.00000000e+00, 7.04736966e-05, 0.00000000e+00, ...,\n",
       "        1.57883358e-04, 6.02903299e-04, 1.59141399e-04],\n",
       "       ...,\n",
       "       [0.00000000e+00, 5.55323526e-01, 2.49213800e-01, ...,\n",
       "        6.59905955e-03, 1.01935449e-04, 0.00000000e+00],\n",
       "       [0.00000000e+00, 1.99353055e-01, 8.03249086e-03, ...,\n",
       "        2.21419337e-04, 0.00000000e+00, 0.00000000e+00],\n",
       "       [0.00000000e+00, 5.56113289e-01, 3.01602483e-01, ...,\n",
       "        8.48387658e-02, 1.01244940e-04, 4.72638293e-05]])"
      ]
     },
     "execution_count": 17,
     "metadata": {},
     "output_type": "execute_result"
    }
   ],
   "source": [
    "pred = model.predict_proba(x_test)\n",
    "pred"
   ]
  },
  {
   "cell_type": "code",
   "execution_count": 18,
   "id": "cb472b4d",
   "metadata": {},
   "outputs": [
    {
     "data": {
      "text/html": [
       "<div>\n",
       "<style scoped>\n",
       "    .dataframe tbody tr th:only-of-type {\n",
       "        vertical-align: middle;\n",
       "    }\n",
       "\n",
       "    .dataframe tbody tr th {\n",
       "        vertical-align: top;\n",
       "    }\n",
       "\n",
       "    .dataframe thead th {\n",
       "        text-align: right;\n",
       "    }\n",
       "</style>\n",
       "<table border=\"1\" class=\"dataframe\">\n",
       "  <thead>\n",
       "    <tr style=\"text-align: right;\">\n",
       "      <th></th>\n",
       "      <th>Class_1</th>\n",
       "      <th>Class_2</th>\n",
       "      <th>Class_3</th>\n",
       "      <th>Class_4</th>\n",
       "      <th>Class_5</th>\n",
       "      <th>Class_6</th>\n",
       "      <th>Class_7</th>\n",
       "      <th>Class_8</th>\n",
       "      <th>Class_9</th>\n",
       "    </tr>\n",
       "    <tr>\n",
       "      <th>id</th>\n",
       "      <th></th>\n",
       "      <th></th>\n",
       "      <th></th>\n",
       "      <th></th>\n",
       "      <th></th>\n",
       "      <th></th>\n",
       "      <th></th>\n",
       "      <th></th>\n",
       "      <th></th>\n",
       "    </tr>\n",
       "  </thead>\n",
       "  <tbody>\n",
       "    <tr>\n",
       "      <th>1</th>\n",
       "      <td>0.000000</td>\n",
       "      <td>0.188199</td>\n",
       "      <td>0.106343</td>\n",
       "      <td>0.698009</td>\n",
       "      <td>0.000000</td>\n",
       "      <td>0.000429</td>\n",
       "      <td>0.006911</td>\n",
       "      <td>0.000109</td>\n",
       "      <td>0.000000</td>\n",
       "    </tr>\n",
       "    <tr>\n",
       "      <th>2</th>\n",
       "      <td>0.003164</td>\n",
       "      <td>0.008382</td>\n",
       "      <td>0.000535</td>\n",
       "      <td>0.000337</td>\n",
       "      <td>0.000216</td>\n",
       "      <td>0.457962</td>\n",
       "      <td>0.003927</td>\n",
       "      <td>0.524649</td>\n",
       "      <td>0.000828</td>\n",
       "    </tr>\n",
       "    <tr>\n",
       "      <th>3</th>\n",
       "      <td>0.000000</td>\n",
       "      <td>0.000070</td>\n",
       "      <td>0.000000</td>\n",
       "      <td>0.000000</td>\n",
       "      <td>0.000000</td>\n",
       "      <td>0.999010</td>\n",
       "      <td>0.000158</td>\n",
       "      <td>0.000603</td>\n",
       "      <td>0.000159</td>\n",
       "    </tr>\n",
       "    <tr>\n",
       "      <th>4</th>\n",
       "      <td>0.000000</td>\n",
       "      <td>0.611847</td>\n",
       "      <td>0.365047</td>\n",
       "      <td>0.021719</td>\n",
       "      <td>0.000000</td>\n",
       "      <td>0.000000</td>\n",
       "      <td>0.000161</td>\n",
       "      <td>0.000108</td>\n",
       "      <td>0.001118</td>\n",
       "    </tr>\n",
       "    <tr>\n",
       "      <th>5</th>\n",
       "      <td>0.131924</td>\n",
       "      <td>0.000069</td>\n",
       "      <td>0.001029</td>\n",
       "      <td>0.000182</td>\n",
       "      <td>0.000000</td>\n",
       "      <td>0.005973</td>\n",
       "      <td>0.002889</td>\n",
       "      <td>0.089794</td>\n",
       "      <td>0.768140</td>\n",
       "    </tr>\n",
       "    <tr>\n",
       "      <th>...</th>\n",
       "      <td>...</td>\n",
       "      <td>...</td>\n",
       "      <td>...</td>\n",
       "      <td>...</td>\n",
       "      <td>...</td>\n",
       "      <td>...</td>\n",
       "      <td>...</td>\n",
       "      <td>...</td>\n",
       "      <td>...</td>\n",
       "    </tr>\n",
       "    <tr>\n",
       "      <th>144364</th>\n",
       "      <td>0.653032</td>\n",
       "      <td>0.002491</td>\n",
       "      <td>0.004095</td>\n",
       "      <td>0.002956</td>\n",
       "      <td>0.000000</td>\n",
       "      <td>0.264888</td>\n",
       "      <td>0.023379</td>\n",
       "      <td>0.013318</td>\n",
       "      <td>0.035842</td>\n",
       "    </tr>\n",
       "    <tr>\n",
       "      <th>144365</th>\n",
       "      <td>0.000000</td>\n",
       "      <td>0.311804</td>\n",
       "      <td>0.525800</td>\n",
       "      <td>0.063729</td>\n",
       "      <td>0.000000</td>\n",
       "      <td>0.001084</td>\n",
       "      <td>0.097270</td>\n",
       "      <td>0.000100</td>\n",
       "      <td>0.000213</td>\n",
       "    </tr>\n",
       "    <tr>\n",
       "      <th>144366</th>\n",
       "      <td>0.000000</td>\n",
       "      <td>0.555324</td>\n",
       "      <td>0.249214</td>\n",
       "      <td>0.188328</td>\n",
       "      <td>0.000000</td>\n",
       "      <td>0.000433</td>\n",
       "      <td>0.006599</td>\n",
       "      <td>0.000102</td>\n",
       "      <td>0.000000</td>\n",
       "    </tr>\n",
       "    <tr>\n",
       "      <th>144367</th>\n",
       "      <td>0.000000</td>\n",
       "      <td>0.199353</td>\n",
       "      <td>0.008032</td>\n",
       "      <td>0.792393</td>\n",
       "      <td>0.000000</td>\n",
       "      <td>0.000000</td>\n",
       "      <td>0.000221</td>\n",
       "      <td>0.000000</td>\n",
       "      <td>0.000000</td>\n",
       "    </tr>\n",
       "    <tr>\n",
       "      <th>144368</th>\n",
       "      <td>0.000000</td>\n",
       "      <td>0.556113</td>\n",
       "      <td>0.301602</td>\n",
       "      <td>0.055888</td>\n",
       "      <td>0.000204</td>\n",
       "      <td>0.001205</td>\n",
       "      <td>0.084839</td>\n",
       "      <td>0.000101</td>\n",
       "      <td>0.000047</td>\n",
       "    </tr>\n",
       "  </tbody>\n",
       "</table>\n",
       "<p>144368 rows × 9 columns</p>\n",
       "</div>"
      ],
      "text/plain": [
       "         Class_1   Class_2   Class_3   Class_4   Class_5   Class_6   Class_7  \\\n",
       "id                                                                             \n",
       "1       0.000000  0.188199  0.106343  0.698009  0.000000  0.000429  0.006911   \n",
       "2       0.003164  0.008382  0.000535  0.000337  0.000216  0.457962  0.003927   \n",
       "3       0.000000  0.000070  0.000000  0.000000  0.000000  0.999010  0.000158   \n",
       "4       0.000000  0.611847  0.365047  0.021719  0.000000  0.000000  0.000161   \n",
       "5       0.131924  0.000069  0.001029  0.000182  0.000000  0.005973  0.002889   \n",
       "...          ...       ...       ...       ...       ...       ...       ...   \n",
       "144364  0.653032  0.002491  0.004095  0.002956  0.000000  0.264888  0.023379   \n",
       "144365  0.000000  0.311804  0.525800  0.063729  0.000000  0.001084  0.097270   \n",
       "144366  0.000000  0.555324  0.249214  0.188328  0.000000  0.000433  0.006599   \n",
       "144367  0.000000  0.199353  0.008032  0.792393  0.000000  0.000000  0.000221   \n",
       "144368  0.000000  0.556113  0.301602  0.055888  0.000204  0.001205  0.084839   \n",
       "\n",
       "         Class_8   Class_9  \n",
       "id                          \n",
       "1       0.000109  0.000000  \n",
       "2       0.524649  0.000828  \n",
       "3       0.000603  0.000159  \n",
       "4       0.000108  0.001118  \n",
       "5       0.089794  0.768140  \n",
       "...          ...       ...  \n",
       "144364  0.013318  0.035842  \n",
       "144365  0.000100  0.000213  \n",
       "144366  0.000102  0.000000  \n",
       "144367  0.000000  0.000000  \n",
       "144368  0.000101  0.000047  \n",
       "\n",
       "[144368 rows x 9 columns]"
      ]
     },
     "execution_count": 18,
     "metadata": {},
     "output_type": "execute_result"
    }
   ],
   "source": [
    "output = pd.DataFrame(pred, columns=[\"Class_1\",\"Class_2\",\"Class_3\",\"Class_4\",\"Class_5\",\"Class_6\",\"Class_7\",\"Class_8\",\"Class_9\"])\n",
    "output.index.name = \"id\"\n",
    "output.index += 1\n",
    "output"
   ]
  },
  {
   "cell_type": "code",
   "execution_count": 19,
   "id": "6227d121",
   "metadata": {},
   "outputs": [],
   "source": [
    "output.to_csv(\"/home/centos/moon/ktw/Otto Group Product Classification Challenge/data/otto_submission.csv\")"
   ]
  },
  {
   "cell_type": "code",
   "execution_count": null,
   "id": "14fb10dd",
   "metadata": {},
   "outputs": [],
   "source": []
  }
 ],
 "metadata": {
  "kernelspec": {
   "display_name": "test_env",
   "language": "python",
   "name": "test_env"
  },
  "language_info": {
   "codemirror_mode": {
    "name": "ipython",
    "version": 3
   },
   "file_extension": ".py",
   "mimetype": "text/x-python",
   "name": "python",
   "nbconvert_exporter": "python",
   "pygments_lexer": "ipython3",
   "version": "3.7.13"
  }
 },
 "nbformat": 4,
 "nbformat_minor": 5
}
