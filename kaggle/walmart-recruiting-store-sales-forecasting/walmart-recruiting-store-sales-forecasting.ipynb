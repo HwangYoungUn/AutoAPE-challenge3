{
 "cells": [
  {
   "cell_type": "code",
   "execution_count": 1,
   "id": "ca60a824",
   "metadata": {},
   "outputs": [],
   "source": [
    "import pandas as pd\n",
    "import numpy as np\n",
    "\n",
    "from sklearn import model_selection\n",
    "from sklearn import metrics, ensemble\n",
    "from sklearn.model_selection import train_test_split\n",
    "from sklearn.ensemble import RandomForestRegressor\n",
    "import warnings\n",
    "warnings.filterwarnings('ignore') \n",
    "import statistics\n",
    "\n",
    "import datetime\n",
    "from datetime import timedelta"
   ]
  },
  {
   "cell_type": "code",
   "execution_count": 2,
   "id": "bc52b8fe",
   "metadata": {},
   "outputs": [],
   "source": [
    "stores_data = pd.read_csv('/home/centos/moon/ktw/walmart-recruiting-store-sales-forecasting/data/stores.csv')\n",
    "test_data = pd.read_csv('/home/centos/moon/ktw/walmart-recruiting-store-sales-forecasting/data/test.csv.zip')\n",
    "train_data = pd.read_csv('/home/centos/moon/ktw/walmart-recruiting-store-sales-forecasting/data/train.csv.zip')\n",
    "features_data = pd.read_csv('/home/centos/moon/ktw/walmart-recruiting-store-sales-forecasting/data/features.csv.zip')\n",
    "sample_submission = pd.read_csv('/home/centos/moon/ktw/walmart-recruiting-store-sales-forecasting/data/sampleSubmission.csv.zip')"
   ]
  },
  {
   "cell_type": "code",
   "execution_count": 3,
   "id": "e514a0ec",
   "metadata": {},
   "outputs": [],
   "source": [
    "feature_store = features_data.merge(stores_data, how='inner', on= \"Store\")\n",
    "feature_store['Date'] = pd.to_datetime(feature_store['Date'])\n",
    "train_data['Date'] = pd.to_datetime(train_data['Date'])\n",
    "test_data['Date'] = pd.to_datetime(test_data['Date'])"
   ]
  },
  {
   "cell_type": "code",
   "execution_count": 4,
   "id": "3470b75c",
   "metadata": {},
   "outputs": [],
   "source": [
    "feature_store['Week'] = feature_store['Date'].dt.week\n",
    "feature_store['Year'] = feature_store['Date'].dt.year\n",
    "feature_store['Day'] = feature_store['Date'].dt.day"
   ]
  },
  {
   "cell_type": "code",
   "execution_count": 5,
   "id": "1d10b4a8",
   "metadata": {},
   "outputs": [],
   "source": [
    "train_df = train_data.merge(feature_store, how='inner', on = ['Store', 'Date', 'IsHoliday']).sort_values(by=['Store', 'Dept', 'Date']).reset_index(drop=True)\n",
    "test_df = test_data.merge(feature_store, how='inner', on = ['Store', 'Date', 'IsHoliday']).sort_values(by=['Store', 'Dept', 'Date']).reset_index(drop=True)"
   ]
  },
  {
   "cell_type": "code",
   "execution_count": 6,
   "id": "eb8f32f7",
   "metadata": {},
   "outputs": [],
   "source": [
    "train_df.loc[(train_df.Year==2010) & (train_df.Week==13), 'IsHoliday'] = True\n",
    "train_df.loc[(train_df.Year==2011) & (train_df.Week==16), 'IsHoliday'] = True\n",
    "train_df.loc[(train_df.Year==2012) & (train_df.Week==14), 'IsHoliday'] = True\n",
    "test_df.loc[(test_df.Year==2013) & (test_df.Week==13), 'IsHoliday'] = True"
   ]
  },
  {
   "cell_type": "code",
   "execution_count": 7,
   "id": "718d225d",
   "metadata": {},
   "outputs": [],
   "source": [
    "train_df.loc[(train_df.Year==2010) & (train_df.Week==18), 'IsHoliday'] = True\n",
    "train_df.loc[(train_df.Year==2011) & (train_df.Week==18), 'IsHoliday'] = True\n",
    "train_df.loc[(train_df.Year==2012) & (train_df.Week==18), 'IsHoliday'] = True\n",
    "test_df.loc[(test_df.Year==2013) & (test_df.Week==18), 'IsHoliday'] = True"
   ]
  },
  {
   "cell_type": "code",
   "execution_count": 8,
   "id": "7f32cca2",
   "metadata": {},
   "outputs": [],
   "source": [
    "train_df.loc[(train_df.Year==2010) & (train_df.Week==26), 'IsHoliday'] = True\n",
    "train_df.loc[(train_df.Year==2011) & (train_df.Week==26), 'IsHoliday'] = True\n",
    "train_df.loc[(train_df.Year==2012) & (train_df.Week==27), 'IsHoliday'] = True\n",
    "test_df.loc[(test_df.Year==2013) & (test_df.Week==27), 'IsHoliday'] = True"
   ]
  },
  {
   "cell_type": "code",
   "execution_count": 9,
   "id": "42700cd5",
   "metadata": {},
   "outputs": [],
   "source": [
    "def type_conversion_full(final_data):\n",
    "    final_data.Type = final_data.Type.apply(lambda x: 3 if x == 'A' else (2 if x == 'B' else 1))\n",
    "    return final_data\n",
    "\n",
    "train_df = type_conversion_full(train_df)\n",
    "test_df = type_conversion_full(test_df)"
   ]
  },
  {
   "cell_type": "code",
   "execution_count": 10,
   "id": "2c59ed0d",
   "metadata": {},
   "outputs": [],
   "source": [
    "train_min = train_df[['Store', 'Dept', 'IsHoliday', 'Size', 'Type', 'Week', 'Year', 'Day']].copy()\n",
    "y = train_df[['Weekly_Sales']].copy()\n",
    "X_train, X_test, y_train, y_test = train_test_split(train_min, y, random_state = 0, test_size=0.1)"
   ]
  },
  {
   "cell_type": "code",
   "execution_count": 11,
   "id": "9f11e458",
   "metadata": {},
   "outputs": [],
   "source": [
    "RF = RandomForestRegressor()\n",
    "RF.fit(X_train, y_train)\n",
    "test = test_df[['Store', 'Dept', 'IsHoliday', 'Size', 'Type', 'Week', 'Year', 'Day']].copy()\n",
    "predict_rf = RF.predict(test)"
   ]
  },
  {
   "cell_type": "code",
   "execution_count": 12,
   "id": "138715a1",
   "metadata": {},
   "outputs": [],
   "source": [
    "ETR = ensemble.ExtraTreesRegressor(bootstrap = True, random_state = 0)\n",
    "ETR.fit(X_train, y_train)\n",
    "predict_etr = ETR.predict(test)"
   ]
  },
  {
   "cell_type": "code",
   "execution_count": 13,
   "id": "37d83efc",
   "metadata": {},
   "outputs": [],
   "source": [
    "avg_preds = (predict_rf + predict_etr) / 2"
   ]
  },
  {
   "cell_type": "code",
   "execution_count": 14,
   "id": "6c1812c1",
   "metadata": {},
   "outputs": [],
   "source": [
    "test_strip = test_df[['Store', 'Dept', 'Date', 'Week', 'Year']]\n",
    "test_strip['Weekly_Sales'] = avg_preds"
   ]
  },
  {
   "cell_type": "code",
   "execution_count": 15,
   "id": "14efe519",
   "metadata": {},
   "outputs": [],
   "source": [
    "def week_51_adj(row):\n",
    "    compareval = test_strip[(test_strip['Store'] == row.Store) & (test_strip['Dept'] == row.Dept) & (test_strip['Week'] == 52)]\n",
    "    if compareval.empty:\n",
    "        return row.Weekly_Sales\n",
    "    elif (row.Weekly_Sales > 1.5 * compareval.Weekly_Sales.median()):\n",
    "        return (row.Weekly_Sales * 0.85)\n",
    "    else:\n",
    "        return row.Weekly_Sales\n",
    "    \n",
    "def week_52_adj(row):\n",
    "    compareval = test_strip[(test_strip['Store'] == row.Store) & (test_strip['Dept'] == row.Dept) & (test_strip['Week'] == 51)]\n",
    "    if compareval.empty:\n",
    "        return row.Weekly_Sales\n",
    "    elif (row.Weekly_Sales * 1.275 < compareval.Weekly_Sales.median()):\n",
    "        return (row.Weekly_Sales * 1.2)\n",
    "    else:\n",
    "        return row.Weekly_Sales"
   ]
  },
  {
   "cell_type": "code",
   "execution_count": 16,
   "id": "2cbcaf58",
   "metadata": {},
   "outputs": [],
   "source": [
    "test_strip['Weekly_Sales'] = test_strip.apply(lambda row: week_51_adj(row) if row.Week == 51 else row.Weekly_Sales, axis = 1)\n",
    "test_strip['Weekly_Sales'] = test_strip.apply(lambda row: week_52_adj(row) if row.Week == 52 else row.Weekly_Sales, axis = 1)"
   ]
  },
  {
   "cell_type": "code",
   "execution_count": 17,
   "id": "c8b599b2",
   "metadata": {},
   "outputs": [],
   "source": [
    "sample_submission['Weekly_Sales'] = test_strip['Weekly_Sales']\n",
    "sample_submission.to_csv('/home/centos/moon/ktw/walmart-recruiting-store-sales-forecasting/data/submission1.csv', index=False)"
   ]
  },
  {
   "cell_type": "code",
   "execution_count": null,
   "id": "39aac609",
   "metadata": {},
   "outputs": [],
   "source": []
  }
 ],
 "metadata": {
  "kernelspec": {
   "display_name": "test_env",
   "language": "python",
   "name": "test_env"
  },
  "language_info": {
   "codemirror_mode": {
    "name": "ipython",
    "version": 3
   },
   "file_extension": ".py",
   "mimetype": "text/x-python",
   "name": "python",
   "nbconvert_exporter": "python",
   "pygments_lexer": "ipython3",
   "version": "3.7.13"
  }
 },
 "nbformat": 4,
 "nbformat_minor": 5
}
